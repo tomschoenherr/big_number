{
 "cells": [
  {
   "cell_type": "markdown",
   "metadata": {},
   "source": [
    "# Project Outlining"
   ]
  },
  {
   "cell_type": "markdown",
   "metadata": {},
   "source": [
    "This project will need to incorporate the following steps:\n",
    "1. Parse the pdf into a searchable format (markdown?)\n",
    "2. Search for and store numbers\n",
    "3. For the numbers, look to see if proceeding words are modifiers\n",
    "4. If it is a modifier, convert that to a value\n",
    "5. Combine with initial number\n",
    "6. Find the max value\n",
    "7. Report max value (value, page number it was found on, if it was modified, what the original context was)"
   ]
  },
  {
   "cell_type": "markdown",
   "metadata": {},
   "source": [
    "Which portions of this pipeline would make sense to define as a class?\n",
    "- Text data. Class would load pdf, parse the pdf, and separate text by pages. "
   ]
  },
  {
   "cell_type": "markdown",
   "metadata": {},
   "source": [
    "# Parsing the PDF "
   ]
  },
  {
   "cell_type": "markdown",
   "metadata": {},
   "source": [
    "Notes about the PDF:\n",
    "- Values often preceded by '$'\n",
    "- High values often have a decimal point and a modifier\n",
    "- Must be able to parse tables\n",
    "    - Tables have modifiers in the headers as well! \n",
    "    - pymupdf4llm would be a good choice to ensure I can extract tables \n",
    "- First ~20 pages are the summary. I would suspect that the highest number would be found there\n",
    "- It's reasonable to assume all modifiers are on the same page as the number, so I should go page-by-page\n"
   ]
  },
  {
   "cell_type": "markdown",
   "metadata": {},
   "source": [
    "## Parse the pdf manually"
   ]
  },
  {
   "cell_type": "code",
   "execution_count": 61,
   "metadata": {},
   "outputs": [],
   "source": [
    "\n",
    "import pymupdf\n",
    "import pymupdf4llm\n",
    "import random"
   ]
  },
  {
   "cell_type": "code",
   "execution_count": 62,
   "metadata": {},
   "outputs": [],
   "source": [
    "# load the pdf file \n",
    "pdf_name = \"FY25 Air Force Working Capital Fund.pdf\""
   ]
  },
  {
   "cell_type": "code",
   "execution_count": 63,
   "metadata": {},
   "outputs": [
    {
     "name": "stdout",
     "output_type": "stream",
     "text": [
      "Total pages: 114\n"
     ]
    }
   ],
   "source": [
    "# Open the document so we can see the page numbers\n",
    "document = pymupdf.open(pdf_name)\n",
    "page_count = len(document)\n",
    "\n",
    "print(f\"Total pages: {page_count}\")"
   ]
  },
  {
   "cell_type": "code",
   "execution_count": 64,
   "metadata": {},
   "outputs": [],
   "source": [
    "# Extract markdown page by page\n",
    "pages = []\n",
    "for page_num in range(page_count):\n",
    "    \n",
    "    # Convert page to markdown using pymupdf4llm\n",
    "    markdown = pymupdf4llm.to_markdown(pdf_name, pages = [page_num])\n",
    "    pages.append(markdown)"
   ]
  },
  {
   "cell_type": "code",
   "execution_count": 65,
   "metadata": {},
   "outputs": [
    {
     "name": "stdout",
     "output_type": "stream",
     "text": [
      "\n",
      "--- Preview of first page (markdown) ---\n",
      "# ***UNITED STATES *** ***AIR FORCE *** ***WORKING CAPITAL FUND *** ***(Appropriation: 4930) ***\n",
      "## ***Fiscal Year (FY) 2025 *** ***Budget Estimates *** ***January 2024***\n",
      "\n",
      "\n",
      "-----\n",
      "\n",
      "\n"
     ]
    }
   ],
   "source": [
    "print(\"\\n--- Preview of first page (markdown) ---\")\n",
    "first_page_text = pages[0]\n",
    "print(first_page_text)"
   ]
  },
  {
   "cell_type": "code",
   "execution_count": 66,
   "metadata": {},
   "outputs": [
    {
     "name": "stdout",
     "output_type": "stream",
     "text": [
      "\n",
      "--- Preview of page 79 text ---\n",
      "###### Fiscal Year (FY) 2025 Budget Estimates February 2024\n",
      "\n",
      "###### Fund 11 (Dollars in Millions) **United States Transportation Command**\n",
      "\n",
      "###### Source of New Orders and Revenue Air Force Working Capital Fund Transportation Working Capital Fund (TWCF)\n",
      "\n",
      "###### **FY2023 FY2024 FY2025** **1. New Orders 1. New Orders** **  a. Orders From DOD Components:  a. Orders From DOD Components: 8,510.7 7,282.2 8,066.8** **  Total Air Force  Total Air Force 4,441.8 3,838.1 4,271.1** **   Military Personnel    Military Personnel - AF 108.7 95.0 129.4** **   Aircraft Procurement    Aircraft Procurement .8 .1 .4** **   Missile Procurement    Missile Procurement .0 .0 .0** **   Other Procurement    Other Procurement 13.3 12.4 14.1** **   Operations & Maintenance    Operations & Maintenance - AF 4,024.1 3,371.8 3,754.8** **   Operations & Maintenance - ANG    Operations & Maintenance - ANG 3.5 3.5 3.8** **   Operations and Maintenance - AFRES AFRES 274.6 339.5 350.0** **   RDT&E    RDT&E - Air Force 15.2 14.8 16.9** **   Other    Other - Air Force 1.6 1.0 1.7** **  Army  Army 2,318.9 1,954.9 2,190.9** **   Military Personnel    Military Personnel - Army 92.6 79.5 112.0** **   Aircraft Procurement    Aircraft Procurement - Army 1.3 1.3 1.5** **   Missile Procurement    Missile Procurement - Army 1.4 1.3 1.5** **   Other Procurement    Other Procurement - Army 7.1 7.2 10.0** **   AAFES    AAFES 35.9 52.6 61.7** **   Operations and Maintenance    Operations and Maintenance - Ar 2,112.8 1,754.6 1,932.5** **   NG, O&M    NG, O&M - Army 14.7 14.3 17.0** **   Army Reserve    Army Reserve 11.2 10.3 12.0** **   RDT&E    RDT&E - Army 22.7 18.7 24.6** **   Other    Other - Army 19.2 15.1 18.1** **  Navy  Navy 947.2 763.8 798.1** **   Military Personnel    Military Personnel - Navy 80.0 68.2 96.6** **   Aircraft Procurement    Aircraft Procurement - Navy .3 .0 .0** **   NEXCOM    NEXCOM .0 .0 .0** **   Operations and Maintenance    Operations and Maintenance - Na 746.9 570.8 640.1** **   NG, O&M    NG, O&M - Navy .0 .0 .0** **   NDSF    NDSF 73.5 74.9 4.1** **   RDT&E    RDT&E - Navy .3 .0 .0** **   Other    Other - Navy 46.2 49.9 57.3** Fund 11 United States Transportation Command\n",
      "\n",
      "76\n",
      "\n",
      "\n",
      "-----\n",
      "\n",
      "\n",
      "\n",
      "--- Preview of page 18 text ---\n",
      "15\n",
      "\n",
      "\n",
      "-----\n",
      "\n",
      "\n",
      "\n",
      "--- Preview of page 7 text ---\n",
      "##### **Air Force Core Strategic Capabilities** In support of Air Force core functions, the AFWCF activities provide maintenance services, weapon system parts, base and medical supplies, and transportation services. The working capital funds are integral to the readiness and sustainability of our air, space, and cyber assets and our ability to deploy forces worldwide and across any theater to support overseas operations and National Defense Strategy interests. Maintenance depots provide equipment, skills, and repair services that keep forces operating worldwide. Supply Management activities procure and manage inventories of consumable and repairable spare parts that support all the force structure mission-ready. USTRANSCOM is the single DoD manager for the Defense Transportation System (DTS) in peace and war. Working capital fund activities, directly and indirectly, provide warfighters the critical services needed to meet global mission capability requirements. **Consolidated Sustainment Activity Group ** The Consolidated Sustainment Activity Group (CSAG) mission is supply management of reparable and consumable items and maintenance services. CSAG is managed under a Chief Executive Officer structure. The Air Force Material Command (AFMC) Commander (AFMC/CC) is the Chief Executive Officer (CEO). The AFMC Director of Logistics (HQ AFMC/A4) serves as the Chief Operating Officer (COO), and the AFMC Director of Financial Management (HQ AFMC/FM) is the Chief Financial Officer (CFO). The Air Force Sustainment Center (AFSC), one of the six centers within AFMC, directs both CSAG divisions' day-to-day operations. The activity operates with two divisions: Maintenance and Supply. Maintenance Division The CSAG-M repairs weapon systems and spare parts to ensure readiness in peacetime and to provide sustainment for overseas operations. The division enhances readiness by efficiently and economically repairing, overhauling, and modifying aircraft, engines, missiles, components and software to meet customer demands. The CSAG-M depots have unique skills and equipment required to support and overhaul both new, complex components and aging weapon systems. During contingencies, the depots can surge repair operations and realign capacity to support the war fighter’s immediate needs. \n",
      "###### AFWCF Overview - FY 2025 President’s Budget (PB)\n",
      "\n",
      "4\n",
      "\n",
      "\n",
      "-----\n",
      "\n",
      "\n"
     ]
    }
   ],
   "source": [
    "# get 3 random page numbers (excluding page 1) and show how they look\n",
    "random_pages = random.sample(range(1, page_count), min(3, page_count-1))\n",
    "\n",
    "for page_num in random_pages:\n",
    "    print(f\"\\n--- Preview of page {page_num} text ---\")\n",
    "    page_text = pages[page_num]\n",
    "    print(page_text)"
   ]
  },
  {
   "cell_type": "markdown",
   "metadata": {},
   "source": [
    "## Move code to class, check that class behaves as expected"
   ]
  },
  {
   "cell_type": "code",
   "execution_count": 67,
   "metadata": {},
   "outputs": [],
   "source": [
    "from pdf_processor import PDFProcessor\n",
    "processor = PDFProcessor(pdf_name)\n",
    "# extract text\n",
    "pages = processor.extract_text()"
   ]
  },
  {
   "cell_type": "code",
   "execution_count": 68,
   "metadata": {},
   "outputs": [
    {
     "name": "stdout",
     "output_type": "stream",
     "text": [
      "Total pages: 114\n",
      "\n",
      "--- Preview of first page (markdown) ---\n",
      "# ***UNITED STATES *** ***AIR FORCE *** ***WORKING CAPITAL FUND *** ***(Appropriation: 4930) ***\n",
      "## ***Fiscal Year (FY) 2025 *** ***Budget Estimates *** ***January 2024***\n",
      "\n",
      "\n",
      "-----\n",
      "\n",
      "\n"
     ]
    }
   ],
   "source": [
    "# print total pages\n",
    "total_pages = processor.get_page_count()\n",
    "print(f\"Total pages: {total_pages}\")\n",
    "\n",
    "# print the first page\n",
    "print(\"\\n--- Preview of first page (markdown) ---\")\n",
    "first_page_text = processor.get_page_text(0)\n",
    "print(first_page_text)\n"
   ]
  },
  {
   "cell_type": "code",
   "execution_count": 69,
   "metadata": {},
   "outputs": [
    {
     "name": "stdout",
     "output_type": "stream",
     "text": [
      "\n",
      "--- Preview of page 79 text ---\n",
      "###### Fiscal Year (FY) 2025 Budget Estimates February 2024\n",
      "\n",
      "###### Fund 11 (Dollars in Millions) **United States Transportation Command**\n",
      "\n",
      "###### Source of New Orders and Revenue Air Force Working Capital Fund Transportation Working Capital Fund (TWCF)\n",
      "\n",
      "###### **FY2023 FY2024 FY2025** **1. New Orders 1. New Orders** **  a. Orders From DOD Components:  a. Orders From DOD Components: 8,510.7 7,282.2 8,066.8** **  Total Air Force  Total Air Force 4,441.8 3,838.1 4,271.1** **   Military Personnel    Military Personnel - AF 108.7 95.0 129.4** **   Aircraft Procurement    Aircraft Procurement .8 .1 .4** **   Missile Procurement    Missile Procurement .0 .0 .0** **   Other Procurement    Other Procurement 13.3 12.4 14.1** **   Operations & Maintenance    Operations & Maintenance - AF 4,024.1 3,371.8 3,754.8** **   Operations & Maintenance - ANG    Operations & Maintenance - ANG 3.5 3.5 3.8** **   Operations and Maintenance - AFRES AFRES 274.6 339.5 350.0** **   RDT&E    RDT&E - Air Force 15.2 14.8 16.9** **   Other    Other - Air Force 1.6 1.0 1.7** **  Army  Army 2,318.9 1,954.9 2,190.9** **   Military Personnel    Military Personnel - Army 92.6 79.5 112.0** **   Aircraft Procurement    Aircraft Procurement - Army 1.3 1.3 1.5** **   Missile Procurement    Missile Procurement - Army 1.4 1.3 1.5** **   Other Procurement    Other Procurement - Army 7.1 7.2 10.0** **   AAFES    AAFES 35.9 52.6 61.7** **   Operations and Maintenance    Operations and Maintenance - Ar 2,112.8 1,754.6 1,932.5** **   NG, O&M    NG, O&M - Army 14.7 14.3 17.0** **   Army Reserve    Army Reserve 11.2 10.3 12.0** **   RDT&E    RDT&E - Army 22.7 18.7 24.6** **   Other    Other - Army 19.2 15.1 18.1** **  Navy  Navy 947.2 763.8 798.1** **   Military Personnel    Military Personnel - Navy 80.0 68.2 96.6** **   Aircraft Procurement    Aircraft Procurement - Navy .3 .0 .0** **   NEXCOM    NEXCOM .0 .0 .0** **   Operations and Maintenance    Operations and Maintenance - Na 746.9 570.8 640.1** **   NG, O&M    NG, O&M - Navy .0 .0 .0** **   NDSF    NDSF 73.5 74.9 4.1** **   RDT&E    RDT&E - Navy .3 .0 .0** **   Other    Other - Navy 46.2 49.9 57.3** Fund 11 United States Transportation Command\n",
      "\n",
      "76\n",
      "\n",
      "\n",
      "-----\n",
      "\n",
      "\n",
      "\n",
      "--- Preview of page 18 text ---\n",
      "15\n",
      "\n",
      "\n",
      "-----\n",
      "\n",
      "\n",
      "\n",
      "--- Preview of page 7 text ---\n",
      "##### **Air Force Core Strategic Capabilities** In support of Air Force core functions, the AFWCF activities provide maintenance services, weapon system parts, base and medical supplies, and transportation services. The working capital funds are integral to the readiness and sustainability of our air, space, and cyber assets and our ability to deploy forces worldwide and across any theater to support overseas operations and National Defense Strategy interests. Maintenance depots provide equipment, skills, and repair services that keep forces operating worldwide. Supply Management activities procure and manage inventories of consumable and repairable spare parts that support all the force structure mission-ready. USTRANSCOM is the single DoD manager for the Defense Transportation System (DTS) in peace and war. Working capital fund activities, directly and indirectly, provide warfighters the critical services needed to meet global mission capability requirements. **Consolidated Sustainment Activity Group ** The Consolidated Sustainment Activity Group (CSAG) mission is supply management of reparable and consumable items and maintenance services. CSAG is managed under a Chief Executive Officer structure. The Air Force Material Command (AFMC) Commander (AFMC/CC) is the Chief Executive Officer (CEO). The AFMC Director of Logistics (HQ AFMC/A4) serves as the Chief Operating Officer (COO), and the AFMC Director of Financial Management (HQ AFMC/FM) is the Chief Financial Officer (CFO). The Air Force Sustainment Center (AFSC), one of the six centers within AFMC, directs both CSAG divisions' day-to-day operations. The activity operates with two divisions: Maintenance and Supply. Maintenance Division The CSAG-M repairs weapon systems and spare parts to ensure readiness in peacetime and to provide sustainment for overseas operations. The division enhances readiness by efficiently and economically repairing, overhauling, and modifying aircraft, engines, missiles, components and software to meet customer demands. The CSAG-M depots have unique skills and equipment required to support and overhaul both new, complex components and aging weapon systems. During contingencies, the depots can surge repair operations and realign capacity to support the war fighter’s immediate needs. \n",
      "###### AFWCF Overview - FY 2025 President’s Budget (PB)\n",
      "\n",
      "4\n",
      "\n",
      "\n",
      "-----\n",
      "\n",
      "\n"
     ]
    }
   ],
   "source": [
    "# Use the same random pages as earlier to preview the text\n",
    "for page_num in random_pages:\n",
    "    print(f\"\\n--- Preview of page {page_num} text ---\")\n",
    "    page_text = processor.get_page_text(page_num)\n",
    "    print(page_text)\n",
    "    "
   ]
  },
  {
   "cell_type": "markdown",
   "metadata": {},
   "source": [
    "# Extract numbers with no context"
   ]
  },
  {
   "cell_type": "code",
   "execution_count": 70,
   "metadata": {},
   "outputs": [],
   "source": [
    "import re\n",
    "from decimal import Decimal"
   ]
  },
  {
   "cell_type": "code",
   "execution_count": 71,
   "metadata": {},
   "outputs": [],
   "source": [
    "# Regex pattern to match the following: commas, decimals, and scientific notation\n",
    "number_pattern = r'(-?(?:(?:\\d{1,3}(?:,\\d{3})+|\\d+)(?:\\.\\d+)?|\\.\\d+)(?:[eE][-+]?\\d+)?)'\n",
    "\n",
    "found_numbers = []\n",
    "\n",
    "# Find all matches\n",
    "for match in re.finditer(number_pattern, processor.get_all_text()):\n",
    "    original = match.group(0)\n",
    "    start_pos = match.start()\n",
    "    \n",
    "    # Convert to Decimal (remove commas first)\n",
    "    clean_num = original.replace(',', '')\n",
    "    \n",
    "    decimal_value = Decimal(clean_num)\n",
    "    found_numbers.append((decimal_value, original, start_pos))\n",
    "    "
   ]
  },
  {
   "cell_type": "code",
   "execution_count": 72,
   "metadata": {},
   "outputs": [
    {
     "name": "stdout",
     "output_type": "stream",
     "text": [
      "Found 7089 numbers\n",
      "Number: 4930, Original: 4930, Start Position: 87\n",
      "Number: 2025, Original: 2025, Start Position: 120\n",
      "Number: 2024, Original: 2024, Start Position: 164\n",
      "Number: 2025, Original: 2025, Start Position: 299\n",
      "Number: 0.1, Original: .1, Start Position: 525\n",
      "Max number: 6000000, Original: 6,000,000, Start Position: 161361\n"
     ]
    }
   ],
   "source": [
    "# print how many numbers were found\n",
    "print(f\"Found {len(found_numbers)} numbers\")\n",
    "# print the first 5 numbers\n",
    "for num, original, start_pos in found_numbers[:5]:\n",
    "    print(f\"Number: {num}, Original: {original}, Start Position: {start_pos}\")\n",
    "# print the max number\n",
    "max_num = max(found_numbers, key=lambda x: x[0])\n",
    "print(f\"Max number: {max_num[0]}, Original: {max_num[1]}, Start Position: {max_num[2]}\")"
   ]
  },
  {
   "cell_type": "markdown",
   "metadata": {},
   "source": [
    "## Create .py file called 'number_extraction', move code there, and test"
   ]
  },
  {
   "cell_type": "code",
   "execution_count": 73,
   "metadata": {},
   "outputs": [
    {
     "name": "stdout",
     "output_type": "stream",
     "text": [
      "Found 7089 numbers\n",
      "Number: 4930, Original: 4930, Start Position: 87\n",
      "Number: 2025, Original: 2025, Start Position: 120\n",
      "Number: 2024, Original: 2024, Start Position: 164\n",
      "Number: 2025, Original: 2025, Start Position: 299\n",
      "Number: 0.1, Original: .1, Start Position: 525\n",
      "Max number: 6000000, Original: 6,000,000, Start Position: 161361\n"
     ]
    }
   ],
   "source": [
    "import number_extraction as ne\n",
    "\n",
    "# Now analyze the numbers\n",
    "found_numbers = ne.extract_numbers(processor.get_all_text())\n",
    "\n",
    "# print how many numbers were found\n",
    "print(f\"Found {len(found_numbers)} numbers\")\n",
    "# print the first 5 numbers\n",
    "for num, original, start_pos in found_numbers[:5]:\n",
    "    print(f\"Number: {num}, Original: {original}, Start Position: {start_pos}\")\n",
    "# print the max number\n",
    "max_num = max(found_numbers, key=lambda x: x[0])\n",
    "print(f\"Max number: {max_num[0]}, Original: {max_num[1]}, Start Position: {max_num[2]}\")"
   ]
  },
  {
   "cell_type": "markdown",
   "metadata": {},
   "source": [
    "# Find Relevant Modifiers from the Context"
   ]
  },
  {
   "cell_type": "markdown",
   "metadata": {},
   "source": [
    "Two types of context I need to detect: Modifier that's placed near the number in a block of text, and modifier that is found in a table heading / title.\n"
   ]
  },
  {
   "cell_type": "markdown",
   "metadata": {},
   "source": [
    "Start with finding context near the numbers. "
   ]
  },
  {
   "cell_type": "code",
   "execution_count": 74,
   "metadata": {},
   "outputs": [],
   "source": [
    "# define a function to look at the position of each number extract the context near it\n",
    "def get_context(text, position, window=50):\n",
    "    start = max(0, position - window)\n",
    "    end = min(len(text), position + window)\n",
    "    return text[start:end]"
   ]
  },
  {
   "cell_type": "code",
   "execution_count": 75,
   "metadata": {},
   "outputs": [
    {
     "name": "stdout",
     "output_type": "stream",
     "text": [
      "Context around max number: e smaller in scale (costing between $250,000 and $6,000,000) and are designed, scheduled, and constr\n"
     ]
    }
   ],
   "source": [
    "# print the context of the max number\n",
    "context = get_context(processor.get_all_text(), max_num[2])\n",
    "print(f\"Context around max number: {context}\")"
   ]
  },
  {
   "cell_type": "markdown",
   "metadata": {},
   "source": [
    "Now find if the number is in a table"
   ]
  },
  {
   "cell_type": "code",
   "execution_count": 76,
   "metadata": {},
   "outputs": [],
   "source": [
    "# first need to find the tables in the text\n",
    "def detect_table_boundaries(text):\n",
    "    \"\"\"\n",
    "    Identify all tables in a text and their precise boundaries\n",
    "    \n",
    "    Args:\n",
    "        text (str): The text to analyze\n",
    "        \n",
    "    Returns:\n",
    "        list: List of dictionaries with table info including boundaries\n",
    "    \"\"\"\n",
    "    tables = []\n",
    "    lines = text.split('\\n')\n",
    "    \n",
    "    # Look for table patterns\n",
    "    table_start = None\n",
    "    current_table = None\n",
    "    \n",
    "    for i, line in enumerate(lines):\n",
    "        # Table rows typically have pipe characters or consistent spacing\n",
    "        if '|' in line or re.search(r'\\s{2,}', line):\n",
    "            # Check if we're starting a new table\n",
    "            if table_start is None:\n",
    "                table_start = i\n",
    "\n",
    "                current_table = {\n",
    "                    'start_line': i,\n",
    "                    'title': None,\n",
    "                    'headers': [],\n",
    "                    'end_line': None\n",
    "                }\n",
    "                \n",
    "                # Look for title above the table\n",
    "                for j in range(i-1, max(0, i-5), -1):\n",
    "                    if lines[j].strip() and not '|' in lines[j]:\n",
    "                        current_table['title'] = lines[j].strip()\n",
    "                        break\n",
    "            \n",
    "            # If the second line has separator markers, the first line is likely headers\n",
    "            if i == table_start + 1 and re.search(r'[-=|]+', line) and table_start > 0:\n",
    "                current_table['headers'] = [h.strip() for h in re.split(r'\\|', lines[table_start]) if h.strip()]\n",
    "        \n",
    "        # Table ends with an empty line or a line that's clearly not a table\n",
    "        elif table_start is not None:\n",
    "            # Empty line or clearly not a table row\n",
    "            if not line.strip() or (not '|' in line and not re.search(r'\\s{2,}', line)):\n",
    "                current_table['end_line'] = i - 1\n",
    "                tables.append(current_table)\n",
    "                table_start = None\n",
    "                current_table = None\n",
    "    \n",
    "    # If we ended in a table, add it\n",
    "    if current_table is not None:\n",
    "        current_table['end_line'] = len(lines) - 1\n",
    "        tables.append(current_table)\n",
    "    \n",
    "    return tables"
   ]
  },
  {
   "cell_type": "code",
   "execution_count": 77,
   "metadata": {},
   "outputs": [
    {
     "name": "stdout",
     "output_type": "stream",
     "text": [
      "Found 131 tables\n"
     ]
    }
   ],
   "source": [
    "tables = detect_table_boundaries(processor.get_all_text())\n",
    "print(f\"Found {len(tables)} tables\")\n"
   ]
  },
  {
   "cell_type": "code",
   "execution_count": null,
   "metadata": {},
   "outputs": [],
   "source": []
  },
  {
   "cell_type": "code",
   "execution_count": 78,
   "metadata": {},
   "outputs": [],
   "source": [
    "# find if the number is in a table\n",
    "def get_table_for_position(tables, position, text):\n",
    "    \"\"\"\n",
    "    Find which table (if any) contains the given position\n",
    "    \n",
    "    Args:\n",
    "        tables (list): List of table dictionaries\n",
    "        position (int): Position in text\n",
    "        text (str): Full text\n",
    "        \n",
    "    Returns:\n",
    "        dict or None: Table containing the position, or None\n",
    "    \"\"\"\n",
    "    lines = text.split('\\n')\n",
    "    \n",
    "    # Find which line contains our position\n",
    "    current_pos = 0\n",
    "    current_line = 0\n",
    "    \n",
    "    for i, line in enumerate(lines):\n",
    "        if current_pos + len(line) >= position:\n",
    "            current_line = i\n",
    "            break\n",
    "        current_pos += len(line) + 1  # +1 for the newline\n",
    "    \n",
    "    # Check which table contains this line\n",
    "    for table in tables:\n",
    "        if table['start_line'] <= current_line <= table['end_line']:\n",
    "            return table\n",
    "    \n",
    "    return None"
   ]
  },
  {
   "cell_type": "code",
   "execution_count": 79,
   "metadata": {},
   "outputs": [
    {
     "name": "stdout",
     "output_type": "stream",
     "text": [
      "Number found in table: ###### Fiscal Year (FY) 2025 Budget Estimates February 2024\n"
     ]
    }
   ],
   "source": [
    "table = get_table_for_position(tables, max_num[2], processor.get_all_text())\n",
    "print(f\"Number found in table: {table['title'] if table else None}\")"
   ]
  },
  {
   "cell_type": "markdown",
   "metadata": {},
   "source": [
    "# Find multiplier in context (title/headers of table or near the number)"
   ]
  },
  {
   "cell_type": "code",
   "execution_count": 80,
   "metadata": {},
   "outputs": [],
   "source": [
    "# define common multipliers, notations, and phrases to help identify multipliers \n",
    "multipliers = {\n",
    "    'million': 1_000_000,\n",
    "    'millions': 1_000_000,\n",
    "    'billion': 1_000_000_000,\n",
    "    'billions': 1_000_000_000,\n",
    "    'trillion': 1_000_000_000_000,\n",
    "    'thousands': 1_000,\n",
    "    'thousand': 1_000\n",
    "}\n",
    "    \n",
    "notation_patterns = [\n",
    "    (r'\\(\\$M\\)', 1_000_000),       # ($M) - millions\n",
    "    (r'\\(M\\$\\)', 1_000_000),       # (M$) - millions\n",
    "    (r'\\(\\$B\\)', 1_000_000_000),   # ($B) - billions\n",
    "    (r'\\(B\\$\\)', 1_000_000_000),   # (B$) - billions\n",
    "    (r'\\(\\$K\\)', 1_000),           # ($K) - thousands\n",
    "    (r'\\(K\\$\\)', 1_000),           # (K$) - thousands\n",
    "    (r'\\$ *M', 1_000_000),         # $M or $ M - millions\n",
    "    (r'M\\$', 1_000_000),           # M$ - millions\n",
    "    (r'\\$ *B', 1_000_000_000),     # $B or $ B - billions\n",
    "    (r'B\\$', 1_000_000_000),       # B$ - billions\n",
    "    (r'\\$ *K', 1_000),             # $K or $ K - thousands\n",
    "    (r'K\\$', 1_000)                # K$ - thousands\n",
    "]\n",
    "\n",
    "phrases = [\n",
    "    ('dollars in millions', 1_000_000),\n",
    "    ('(dollars in millions)', 1_000_000),\n",
    "    ('$ in millions', 1_000_000),\n",
    "    ('($ in millions)', 1_000_000),\n",
    "    ('in millions', 1_000_000),\n",
    "    ('(in millions)', 1_000_000),\n",
    "    ('dollars in billions', 1_000_000_000),\n",
    "    ('(dollars in billions)', 1_000_000_000),\n",
    "    ('$ in billions', 1_000_000_000),\n",
    "    ('($ in billions)', 1_000_000_000),\n",
    "    ('in billions', 1_000_000_000),\n",
    "    ('(in billions)', 1_000_000_000)\n",
    "]"
   ]
  },
  {
   "cell_type": "code",
   "execution_count": 81,
   "metadata": {},
   "outputs": [],
   "source": [
    "def detect_multiplier(context_text, multipliers, notations, phrases):\n",
    "    \"\"\"\n",
    "    Detect if there's a multiplier like 'millions' or 'billions' in the context.\n",
    "    \"\"\"\n",
    "    \n",
    "    # Convert to lowercase for case-insensitive matching\n",
    "    context_lower = context_text.lower()\n",
    "    \n",
    "    for pattern, value in notations:\n",
    "        if re.search(pattern, context_text, re.IGNORECASE):\n",
    "            return pattern, value\n",
    "\n",
    "    for phrase, value in phrases:\n",
    "        if phrase in context_lower:\n",
    "            return phrase, value\n",
    "    \n",
    "    # Then look for standalone multiplier words\n",
    "    for word, value in multipliers.items():\n",
    "        if word in context_lower:\n",
    "            # Make sure it's a whole word by checking for spaces or punctuation around it\n",
    "            word_pattern = r'\\b' + word + r'\\b'\n",
    "            if re.search(word_pattern, context_lower):\n",
    "                return word, value\n",
    "    \n",
    "    # If no multiplier is found, return None and a value of 1 (no modification)\n",
    "    return None, 1"
   ]
  },
  {
   "cell_type": "code",
   "execution_count": 82,
   "metadata": {},
   "outputs": [
    {
     "name": "stdout",
     "output_type": "stream",
     "text": [
      "Multiplier: million, Value: 1000000\n"
     ]
    }
   ],
   "source": [
    "context = \"This is a test for 10 million dollars\"\n",
    "\n",
    "# Test the multiplier detection\n",
    "multiplier, multiplier_value = detect_multiplier(context, multipliers, notation_patterns, phrases)\n",
    "print(f\"Multiplier: {multiplier}, Value: {multiplier_value}\")\n"
   ]
  },
  {
   "cell_type": "code",
   "execution_count": 83,
   "metadata": {},
   "outputs": [
    {
     "name": "stdout",
     "output_type": "stream",
     "text": [
      "Multiplier: dollars in millions, Value: 1000000\n"
     ]
    }
   ],
   "source": [
    "context = \"This is a test for 10 dollars in millions\"\n",
    "\n",
    "# Test the multiplier detection\n",
    "multiplier, multiplier_value = detect_multiplier(context, multipliers, notation_patterns, phrases)\n",
    "print(f\"Multiplier: {multiplier}, Value: {multiplier_value}\")"
   ]
  },
  {
   "cell_type": "code",
   "execution_count": 84,
   "metadata": {},
   "outputs": [
    {
     "name": "stdout",
     "output_type": "stream",
     "text": [
      "Multiplier: M\\$, Value: 1000000\n"
     ]
    }
   ],
   "source": [
    "context = \"This is a test for 10 M$\"\n",
    "\n",
    "# Test the multiplier detection\n",
    "multiplier, multiplier_value = detect_multiplier(context, multipliers, notation_patterns, phrases)\n",
    "print(f\"Multiplier: {multiplier}, Value: {multiplier_value}\")"
   ]
  },
  {
   "cell_type": "markdown",
   "metadata": {},
   "source": [
    "# Move functions into a common .py file, find the highest value with context"
   ]
  },
  {
   "cell_type": "code",
   "execution_count": 85,
   "metadata": {},
   "outputs": [],
   "source": [
    "results = ne.analyze_numbers(processor)"
   ]
  },
  {
   "cell_type": "code",
   "execution_count": 86,
   "metadata": {},
   "outputs": [
    {
     "name": "stdout",
     "output_type": "stream",
     "text": [
      "LARGEST RAW NUMBER:\n",
      "Value: 6000000\n",
      "Original text: 6,000,000\n",
      "Page: 93\n",
      "Context: dapting to new and changing workloads. Projects are smaller in scale (costing between $250,000 and $6,000,000) and are designed, scheduled, and constr...\n",
      "\n",
      "LARGEST MODIFIED NUMBER:\n",
      "Modified value: 30704100000.0\n",
      "Raw value: 30704.1\n",
      "Original text: 30,704.1\n",
      "Page: 13\n",
      "Multiplier: dollars in millions (1000000)\n",
      "Context:  Summary**\n",
      "###### ( Dollars in Millions ) FY 2023 FY 2024 FY 2025 Total Revenue T 28,239.2 29,176.6 30,704.1 Cost of Goods Sold C 27,950.4 29,494.7 30...\n"
     ]
    }
   ],
   "source": [
    "# Print the results\n",
    "print(\"LARGEST RAW NUMBER:\")\n",
    "print(f\"Value: {results['largest_raw']['value']}\")\n",
    "print(f\"Original text: {results['largest_raw']['original']}\")\n",
    "print(f\"Page: {results['largest_raw']['page']}\")\n",
    "print(f\"Context: {results['largest_raw']['context'][:150]}...\")\n",
    "\n",
    "print(\"\\nLARGEST MODIFIED NUMBER:\")\n",
    "print(f\"Modified value: {results['largest_modified']['value']}\")\n",
    "print(f\"Raw value: {results['largest_modified']['raw_value']}\")\n",
    "print(f\"Original text: {results['largest_modified']['original']}\")\n",
    "print(f\"Page: {results['largest_modified']['page']}\")\n",
    "print(f\"Multiplier: {results['largest_modified']['multiplier']} ({results['largest_modified']['multiplier_value']})\")\n",
    "print(f\"Context: {results['largest_modified']['context'][:150]}...\")\n"
   ]
  }
 ],
 "metadata": {
  "kernelspec": {
   "display_name": "env",
   "language": "python",
   "name": "python3"
  },
  "language_info": {
   "codemirror_mode": {
    "name": "ipython",
    "version": 3
   },
   "file_extension": ".py",
   "mimetype": "text/x-python",
   "name": "python",
   "nbconvert_exporter": "python",
   "pygments_lexer": "ipython3",
   "version": "3.12.8"
  }
 },
 "nbformat": 4,
 "nbformat_minor": 2
}
